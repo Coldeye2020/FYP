{
 "cells": [
  {
   "cell_type": "code",
   "execution_count": 2,
   "metadata": {},
   "outputs": [],
   "source": [
    "import torch\n",
    "import torch.nn as nn\n",
    "import torch.nn.functional as F\n",
    "import dgl\n",
    "from dgl import function as fn\n",
    "from dgl.nn import EdgeWeightNorm\n",
    "import numpy as np"
   ]
  },
  {
   "cell_type": "code",
   "execution_count": 4,
   "metadata": {},
   "outputs": [
    {
     "ename": "SyntaxError",
     "evalue": "invalid syntax (1698655739.py, line 57)",
     "output_type": "error",
     "traceback": [
      "\u001b[0;36m  Input \u001b[0;32mIn [4]\u001b[0;36m\u001b[0m\n\u001b[0;31m    return dgl.nn.\u001b[0m\n\u001b[0m                  ^\u001b[0m\n\u001b[0;31mSyntaxError\u001b[0m\u001b[0;31m:\u001b[0m invalid syntax\n"
     ]
    }
   ],
   "source": [
    "class GPR_prop(nn.Module):\n",
    "    def __init__(self, K, alpha, Init, g, dropout, type, Gamma=None, bias=True):\n",
    "        super(GPR_prop, self).__init__()\n",
    "        self.K = K\n",
    "        self.Init = Init\n",
    "        self.alpha = alpha\n",
    "        self.norm = EdgeWeightNorm(norm='both')\n",
    "\n",
    "\n",
    "class GPR_prop(nn.Module):\n",
    "    def __init__(self, K, alpha, Init, g, dropout, type, Gamma=None, bias=True):\n",
    "        super(GPRGNN, self).__init__()\n",
    "        self.K = K\n",
    "        self.Init = Init\n",
    "        self.alpha = alpha\n",
    "\n",
    "        assert Init in ['SGC', 'PPR', 'NPPR', 'Random', 'WS']\n",
    "        if Init == 'SGC':\n",
    "            # SGC-like, note that in this case, alpha has to be a integer. It means where the peak at when initializing GPR weights.\n",
    "            TEMP = 0.0*np.ones(K+1)\n",
    "            TEMP[alpha] = 1.0\n",
    "        elif Init == 'PPR':\n",
    "            # PPR-like\n",
    "            TEMP = alpha*(1-alpha)**np.arange(K+1)\n",
    "            TEMP[-1] = (1-alpha)**K\n",
    "        elif Init == 'NPPR':\n",
    "            # Negative PPR\n",
    "            TEMP = (alpha)**np.arange(K+1)\n",
    "            TEMP = TEMP/np.sum(np.abs(TEMP))\n",
    "        elif Init == 'Random':\n",
    "            # Random\n",
    "            bound = np.sqrt(3/(K+1))\n",
    "            TEMP = np.random.uniform(-bound, bound, K+1)\n",
    "            TEMP = TEMP/np.sum(np.abs(TEMP))\n",
    "        elif Init == 'WS':\n",
    "            # Specify Gamma\n",
    "            TEMP = Gamma\n",
    "        \n",
    "        self.temp = nn.Parameter(torch.tensor(TEMP))\n",
    "\n",
    "        self.g = g\n",
    "        self.dropout = nn.Dropout(dropout)\n",
    "        self.lin1 = nn.Linear()\n",
    "        self.lin2 = nn.Linear()\n",
    "\n",
    "    \n",
    "    def reset_parameters(self):\n",
    "        torch.nn.init.zeros_(self.temp)\n",
    "        for k in range(self.K+1):\n",
    "            self.temp.data[k] = self.alpha*(1-self.alpha)**k\n",
    "        self.temp.data[-1] = (1-self.alpha)**self.K\n",
    "\n",
    "    def message_passing(self, ):\n",
    "        if self.type == 'Origin':\n",
    "            return ()\n",
    "        if self.type == 'Attention':\n",
    "            return dgl.nn.\n",
    "    \n",
    "\n",
    "    def forward(self, in_feat):\n",
    "        self.g.ndata['h'] = in_feat\n",
    "        self.g.ndata['TH'] = in_feat * (self.temp[0])\n",
    "        for k in range(self.K):\n",
    "            self.message_passing(self.g.ndata['h'])\n",
    "            gamma = self.temp[k+1]\n",
    "            self.g.ndata['TH'] = self.g.ndata['TH'] + gamma * self.g.ndata['h']\n",
    "            \n",
    "            \n",
    "\n",
    "\n",
    "        "
   ]
  },
  {
   "cell_type": "code",
   "execution_count": null,
   "metadata": {},
   "outputs": [],
   "source": []
  }
 ],
 "metadata": {
  "interpreter": {
   "hash": "2212e3f7846a0b7a1be930d31035d287d15bdc28c147714496eeefb7460e94e5"
  },
  "kernelspec": {
   "display_name": "Python 3.9.10 ('torch')",
   "language": "python",
   "name": "python3"
  },
  "language_info": {
   "codemirror_mode": {
    "name": "ipython",
    "version": 3
   },
   "file_extension": ".py",
   "mimetype": "text/x-python",
   "name": "python",
   "nbconvert_exporter": "python",
   "pygments_lexer": "ipython3",
   "version": "3.9.10"
  },
  "orig_nbformat": 4
 },
 "nbformat": 4,
 "nbformat_minor": 2
}
