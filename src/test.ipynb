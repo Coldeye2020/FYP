{
 "cells": [
  {
   "cell_type": "code",
   "execution_count": 3,
   "metadata": {},
   "outputs": [],
   "source": [
    "import dgl\n",
    "import torch\n",
    "import torch.nn as nn\n",
    "import torch.nn.functional as F"
   ]
  },
  {
   "cell_type": "code",
   "execution_count": 4,
   "metadata": {},
   "outputs": [
    {
     "name": "stdout",
     "output_type": "stream",
     "text": [
      "  NumNodes: 2708\n",
      "  NumEdges: 10556\n",
      "  NumFeats: 1433\n",
      "  NumClasses: 7\n",
      "  NumTrainingSamples: 140\n",
      "  NumValidationSamples: 500\n",
      "  NumTestSamples: 1000\n",
      "Done loading data from cached files.\n",
      "Number of categories: 7\n"
     ]
    }
   ],
   "source": [
    "import dgl.data\n",
    "\n",
    "dataset = dgl.data.CoraGraphDataset()\n",
    "print('Number of categories:', dataset.num_classes)"
   ]
  },
  {
   "cell_type": "code",
   "execution_count": 24,
   "metadata": {},
   "outputs": [],
   "source": [
    "g = dataset[0]"
   ]
  },
  {
   "cell_type": "code",
   "execution_count": 38,
   "metadata": {},
   "outputs": [
    {
     "data": {
      "text/plain": [
       "10556"
      ]
     },
     "execution_count": 38,
     "metadata": {},
     "output_type": "execute_result"
    }
   ],
   "source": [
    "len(g.edata[\"__orig__\"])"
   ]
  },
  {
   "cell_type": "code",
   "execution_count": 39,
   "metadata": {},
   "outputs": [
    {
     "data": {
      "text/plain": [
       "2708"
      ]
     },
     "execution_count": 39,
     "metadata": {},
     "output_type": "execute_result"
    }
   ],
   "source": [
    "len(g.ndata[\"label\"])"
   ]
  },
  {
   "cell_type": "code",
   "execution_count": 81,
   "metadata": {},
   "outputs": [],
   "source": [
    "from dgl.nn import GraphConv\n",
    "\n",
    "class GCN(nn.Module):\n",
    "    def __init__(self, in_feats, h_feats, num_classes):\n",
    "        super(GCN, self).__init__()\n",
    "        self.conv1 = GraphConv(in_feats, h_feats)\n",
    "        self.conv2 = GraphConv(h_feats, num_classes)\n",
    "\n",
    "    def forward(self, g, in_feat):\n",
    "        h = self.conv1(g, in_feat)\n",
    "        h = F.relu(h)\n",
    "        h = self.conv2(g, h)\n",
    "        return h\n",
    "\n",
    "# Create the model with given dimensions\n",
    "model = GCN(g.ndata['feat'].shape[1], 16, dataset.num_classes)"
   ]
  },
  {
   "cell_type": "code",
   "execution_count": null,
   "metadata": {},
   "outputs": [],
   "source": []
  },
  {
   "cell_type": "code",
   "execution_count": null,
   "metadata": {},
   "outputs": [],
   "source": []
  },
  {
   "cell_type": "code",
   "execution_count": 92,
   "metadata": {},
   "outputs": [
    {
     "name": "stderr",
     "output_type": "stream",
     "text": [
      "/Users/coldeye/miniforge3/envs/torch/lib/python3.9/site-packages/torch/autocast_mode.py:141: UserWarning: User provided device_type of 'cuda', but CUDA is not available. Disabling\n",
      "  warnings.warn('User provided device_type of \\'cuda\\', but CUDA is not available. Disabling')\n"
     ]
    },
    {
     "name": "stdout",
     "output_type": "stream",
     "text": [
      "In epoch 0, train_acc:0.129, val_acc:0.152 (best val_acc:0.152, test_acc:0.133 (best test_val:0.133)\n",
      "In epoch 5, train_acc:0.571, val_acc:0.344 (best val_acc:0.396, test_acc:0.364 (best test_val:0.408)\n",
      "In epoch 10, train_acc:0.771, val_acc:0.494 (best val_acc:0.494, test_acc:0.513 (best test_val:0.513)\n",
      "In epoch 15, train_acc:0.864, val_acc:0.588 (best val_acc:0.588, test_acc:0.600 (best test_val:0.600)\n",
      "In epoch 20, train_acc:0.914, val_acc:0.624 (best val_acc:0.624, test_acc:0.628 (best test_val:0.628)\n",
      "In epoch 25, train_acc:0.950, val_acc:0.648 (best val_acc:0.650, test_acc:0.666 (best test_val:0.659)\n",
      "In epoch 30, train_acc:0.957, val_acc:0.674 (best val_acc:0.674, test_acc:0.701 (best test_val:0.701)\n",
      "In epoch 35, train_acc:0.964, val_acc:0.692 (best val_acc:0.692, test_acc:0.719 (best test_val:0.719)\n",
      "In epoch 40, train_acc:0.964, val_acc:0.716 (best val_acc:0.716, test_acc:0.738 (best test_val:0.738)\n",
      "In epoch 45, train_acc:0.971, val_acc:0.732 (best val_acc:0.732, test_acc:0.745 (best test_val:0.745)\n",
      "In epoch 50, train_acc:0.986, val_acc:0.738 (best val_acc:0.738, test_acc:0.753 (best test_val:0.753)\n",
      "In epoch 55, train_acc:0.986, val_acc:0.744 (best val_acc:0.748, test_acc:0.755 (best test_val:0.756)\n",
      "In epoch 60, train_acc:0.993, val_acc:0.744 (best val_acc:0.748, test_acc:0.761 (best test_val:0.756)\n",
      "In epoch 65, train_acc:0.993, val_acc:0.748 (best val_acc:0.748, test_acc:0.760 (best test_val:0.756)\n",
      "In epoch 70, train_acc:0.993, val_acc:0.750 (best val_acc:0.752, test_acc:0.768 (best test_val:0.764)\n",
      "In epoch 75, train_acc:0.993, val_acc:0.754 (best val_acc:0.754, test_acc:0.765 (best test_val:0.765)\n",
      "In epoch 80, train_acc:0.993, val_acc:0.752 (best val_acc:0.754, test_acc:0.759 (best test_val:0.765)\n",
      "In epoch 85, train_acc:0.993, val_acc:0.758 (best val_acc:0.758, test_acc:0.764 (best test_val:0.764)\n",
      "In epoch 90, train_acc:0.993, val_acc:0.766 (best val_acc:0.766, test_acc:0.759 (best test_val:0.759)\n",
      "In epoch 95, train_acc:1.000, val_acc:0.766 (best val_acc:0.768, test_acc:0.754 (best test_val:0.757)\n"
     ]
    }
   ],
   "source": [
    "def train(g, model):\n",
    "    optimizer = torch.optim.Adam(model.parameters(), lr=0.01)\n",
    "    best_val_acc = 0\n",
    "    best_test_acc = 0\n",
    "\n",
    "    features = g.ndata['feat']\n",
    "    labels = g.ndata['label']\n",
    "    train_mask = g.ndata['train_mask']\n",
    "    val_mask = g.ndata['val_mask']\n",
    "    test_mask = g.ndata['test_mask']\n",
    "\n",
    "    for e in range(100):\n",
    "        # Forward\n",
    "        logits = model(g, features)\n",
    "\n",
    "        # Compute precision\n",
    "        pred = logits.argmax(1)\n",
    "\n",
    "        # Compute loss\n",
    "        loss = F.cross_entropy(logits[train_mask], labels[train_mask])\n",
    "        \n",
    "        # Compute accuracy on trian/validation/test\n",
    "        train_acc = (pred[train_mask] == labels[train_mask]).float().mean()\n",
    "        val_acc = (pred[val_mask] == labels[val_mask]).float().mean()\n",
    "        test_acc = (pred[test_mask] == labels[test_mask]).float().mean()\n",
    "\n",
    "        if best_val_acc < val_acc:\n",
    "            best_val_acc = val_acc\n",
    "            best_test_acc = test_acc\n",
    "        \n",
    "        # Backward\n",
    "        optimizer.zero_grad()\n",
    "        loss.backward()\n",
    "        optimizer.step()\n",
    "\n",
    "        if e % 5 == 0:\n",
    "            print('In epoch {}, train_acc:{:.3f}, val_acc:{:.3f} (best val_acc:{:.3f}, test_acc:{:.3f} (best test_val:{:.3f})'.format(e, train_acc, val_acc, best_val_acc, test_acc, best_test_acc))\n",
    "        \n",
    "model = GCN(g.ndata['feat'].shape[1], 16, dataset.num_classes)\n",
    "train(g, model)\n",
    "\n",
    "\n",
    "    "
   ]
  },
  {
   "cell_type": "code",
   "execution_count": 94,
   "metadata": {},
   "outputs": [],
   "source": [
    "g = dgl.graph(([0, 0, 0, 0, 0], [1, 2, 5, 4, 3]))"
   ]
  },
  {
   "cell_type": "code",
   "execution_count": 96,
   "metadata": {},
   "outputs": [
    {
     "data": {
      "text/plain": [
       "(tensor([0, 0, 0, 0, 0]), tensor([1, 2, 5, 4, 3]))"
      ]
     },
     "execution_count": 96,
     "metadata": {},
     "output_type": "execute_result"
    }
   ],
   "source": [
    "g.edges()"
   ]
  },
  {
   "cell_type": "code",
   "execution_count": 117,
   "metadata": {},
   "outputs": [],
   "source": [
    "import dgl.function as fn\n",
    "\n",
    "class SAGEConv(nn.Module):\n",
    "    def __init__(self, in_feat, out_feat):\n",
    "        super(SAGEConv, self).__init__()\n",
    "        self.linear = nn.Linear(2 * in_feat, out_feat)\n",
    "    \n",
    "    def forward(self, g, h):\n",
    "        with g.local_scope():\n",
    "            g.ndata['h'] = h\n",
    "            g.update_all(message_func=fn.copy_u('h', 'm'), reduce_func=fn.mean('m', 'h_N'))\n",
    "            h_N = g.ndata['h_N']\n",
    "            h_total = torch.cat([h, h_N], dim = 1)\n",
    "            return self.linear(h_total)\n",
    "    \n",
    "    "
   ]
  },
  {
   "cell_type": "code",
   "execution_count": 118,
   "metadata": {},
   "outputs": [],
   "source": [
    "class Model(nn.Module):\n",
    "    def __init__(self, in_feats, h_feat, num_classes):\n",
    "        super(Model, self).__init__()\n",
    "        self.conv1 = SAGEConv(in_feats, h_feat)\n",
    "        self.conv2 = SAGEConv(h_feat, num_classes)\n",
    "    \n",
    "    def forward(self, g, in_feat):\n",
    "        h = self.conv1(g, in_feat)\n",
    "        h = F.relu(h)\n",
    "        h = self.conv2(g, h)\n",
    "        return h"
   ]
  },
  {
   "cell_type": "code",
   "execution_count": 120,
   "metadata": {},
   "outputs": [
    {
     "name": "stdout",
     "output_type": "stream",
     "text": [
      "  NumNodes: 2708\n",
      "  NumEdges: 10556\n",
      "  NumFeats: 1433\n",
      "  NumClasses: 7\n",
      "  NumTrainingSamples: 140\n",
      "  NumValidationSamples: 500\n",
      "  NumTestSamples: 1000\n",
      "Done loading data from cached files.\n",
      "In epoch 0, loss:1.950, trian_acc:0.143, val_acc:0.122 (best_val_acc:0.122), test_acc:0.130 (best_test_acc:0.130)\n",
      "In epoch 5, loss:1.896, trian_acc:0.714, val_acc:0.476 (best_val_acc:0.476), test_acc:0.450 (best_test_acc:0.450)\n"
     ]
    },
    {
     "name": "stderr",
     "output_type": "stream",
     "text": [
      "/Users/coldeye/miniforge3/envs/torch/lib/python3.9/site-packages/torch/autocast_mode.py:141: UserWarning: User provided device_type of 'cuda', but CUDA is not available. Disabling\n",
      "  warnings.warn('User provided device_type of \\'cuda\\', but CUDA is not available. Disabling')\n"
     ]
    },
    {
     "name": "stdout",
     "output_type": "stream",
     "text": [
      "In epoch 10, loss:1.791, trian_acc:0.714, val_acc:0.256 (best_val_acc:0.476), test_acc:0.256 (best_test_acc:0.450)\n",
      "In epoch 15, loss:1.635, trian_acc:0.814, val_acc:0.298 (best_val_acc:0.476), test_acc:0.287 (best_test_acc:0.450)\n",
      "In epoch 20, loss:1.430, trian_acc:0.886, val_acc:0.356 (best_val_acc:0.476), test_acc:0.347 (best_test_acc:0.450)\n",
      "In epoch 25, loss:1.186, trian_acc:0.957, val_acc:0.478 (best_val_acc:0.478), test_acc:0.447 (best_test_acc:0.447)\n",
      "In epoch 30, loss:0.924, trian_acc:0.993, val_acc:0.610 (best_val_acc:0.610), test_acc:0.601 (best_test_acc:0.601)\n",
      "In epoch 35, loss:0.674, trian_acc:1.000, val_acc:0.678 (best_val_acc:0.678), test_acc:0.671 (best_test_acc:0.671)\n",
      "In epoch 40, loss:0.463, trian_acc:1.000, val_acc:0.698 (best_val_acc:0.700), test_acc:0.685 (best_test_acc:0.685)\n",
      "In epoch 45, loss:0.304, trian_acc:1.000, val_acc:0.700 (best_val_acc:0.700), test_acc:0.701 (best_test_acc:0.685)\n",
      "In epoch 50, loss:0.195, trian_acc:1.000, val_acc:0.720 (best_val_acc:0.720), test_acc:0.718 (best_test_acc:0.718)\n",
      "In epoch 55, loss:0.126, trian_acc:1.000, val_acc:0.724 (best_val_acc:0.724), test_acc:0.726 (best_test_acc:0.726)\n",
      "In epoch 60, loss:0.084, trian_acc:1.000, val_acc:0.728 (best_val_acc:0.728), test_acc:0.725 (best_test_acc:0.725)\n",
      "In epoch 65, loss:0.059, trian_acc:1.000, val_acc:0.726 (best_val_acc:0.728), test_acc:0.726 (best_test_acc:0.725)\n",
      "In epoch 70, loss:0.043, trian_acc:1.000, val_acc:0.726 (best_val_acc:0.728), test_acc:0.727 (best_test_acc:0.725)\n",
      "In epoch 75, loss:0.033, trian_acc:1.000, val_acc:0.728 (best_val_acc:0.728), test_acc:0.732 (best_test_acc:0.725)\n",
      "In epoch 80, loss:0.026, trian_acc:1.000, val_acc:0.732 (best_val_acc:0.732), test_acc:0.738 (best_test_acc:0.738)\n",
      "In epoch 85, loss:0.021, trian_acc:1.000, val_acc:0.730 (best_val_acc:0.732), test_acc:0.740 (best_test_acc:0.738)\n",
      "In epoch 90, loss:0.018, trian_acc:1.000, val_acc:0.732 (best_val_acc:0.732), test_acc:0.741 (best_test_acc:0.738)\n",
      "In epoch 95, loss:0.016, trian_acc:1.000, val_acc:0.730 (best_val_acc:0.732), test_acc:0.742 (best_test_acc:0.738)\n"
     ]
    }
   ],
   "source": [
    "dataset = dgl.data.CoraGraphDataset()\n",
    "g = dataset[0]\n",
    "\n",
    "def train(g, model):\n",
    "    all_logits = []\n",
    "    optimizer = torch.optim.Adam(model.parameters(), lr=0.01)\n",
    "    best_val_acc = 0\n",
    "    best_test_acc = 0\n",
    "\n",
    "    features = g.ndata['feat']\n",
    "    labels = g.ndata['label']\n",
    "    train_mask = g.ndata['train_mask']\n",
    "    val_mask = g.ndata['val_mask']\n",
    "    test_mask = g.ndata['test_mask']\n",
    "\n",
    "    for e in range(100):\n",
    "        logits = model(g, features)\n",
    "        pred = logits.argmax(1)\n",
    "        loss = F.cross_entropy(logits[train_mask], labels[train_mask])\n",
    "\n",
    "        train_acc = (pred[train_mask] == labels[train_mask]).float().mean() \n",
    "        val_acc = (pred[val_mask] == labels[val_mask]).float().mean() \n",
    "        test_acc = (pred[test_mask] == labels[test_mask]).float().mean() \n",
    "\n",
    "        if val_acc > best_val_acc:\n",
    "            best_val_acc = val_acc\n",
    "            best_test_acc = test_acc\n",
    "\n",
    "        optimizer.zero_grad()\n",
    "        loss.backward()\n",
    "        optimizer.step()\n",
    "        all_logits.append(logits.detach())\n",
    "        \n",
    "        if e % 5 == 0:\n",
    "            print('In epoch {}, loss:{:.3f}, trian_acc:{:.3f}, val_acc:{:.3f} (best_val_acc:{:.3f}), test_acc:{:.3f} (best_test_acc:{:.3f})'.format(e, loss, train_acc, val_acc, best_val_acc, test_acc, best_test_acc))\n",
    "    \n",
    "model = Model(g.ndata['feat'].shape[1], 16, dataset.num_classes)\n",
    "train(g, model)"
   ]
  },
  {
   "cell_type": "code",
   "execution_count": 107,
   "metadata": {},
   "outputs": [
    {
     "data": {
      "text/plain": [
       "tensor([4, 4])"
      ]
     },
     "execution_count": 107,
     "metadata": {},
     "output_type": "execute_result"
    }
   ],
   "source": [
    "logits = torch.tensor([[0, 1, 2, 3, 4], [1, 2, 3, 4, 5]])\n",
    "logits.argmax(1k)"
   ]
  },
  {
   "cell_type": "code",
   "execution_count": 129,
   "metadata": {},
   "outputs": [],
   "source": [
    "class FALayer(nn.Module):\n",
    "    def __init__(self, g, in_dim, dropout):\n",
    "        super(FALayer, self).__init__()\n",
    "        self.g = g\n",
    "        self.dropout = nn.Dropout(dropout)\n",
    "        self.gate = nn.Linear(2 * in_dim, 1)\n",
    "        nn.init.xavier_normal_(self.gate.weight, gain=1.414)\n",
    "\n",
    "    def edge_applying(self, edges):\n",
    "        h2 = torch.cat([edges.dst['h'], edges.src['h']], dim=1)\n",
    "        g = torch.tanh(self.gate(h2)).squeeze()\n",
    "        e = g * edges.dst['d'] * edges.src['d']\n",
    "        e = self.dropout(e)\n",
    "        return {'e': e, 'm': g}\n",
    "\n",
    "    def forward(self, h):\n",
    "        self.g.ndata['h'] = h\n",
    "        self.g.apply_edges(self.edge_applying)\n",
    "        self.g.update_all(fn.u_mul_e('h', 'e', '_'), fn.sum('_', 'z'))\n",
    "\n",
    "        return self.g.ndata['z']"
   ]
  },
  {
   "cell_type": "code",
   "execution_count": 130,
   "metadata": {},
   "outputs": [],
   "source": [
    "model = FALayer(g, g.ndata['feat'].shape[1], 0)"
   ]
  },
  {
   "cell_type": "code",
   "execution_count": 160,
   "metadata": {},
   "outputs": [
    {
     "name": "stdout",
     "output_type": "stream",
     "text": [
      "  NumNodes: 2708\n",
      "  NumEdges: 10556\n",
      "  NumFeats: 1433\n",
      "  NumClasses: 7\n",
      "  NumTrainingSamples: 140\n",
      "  NumValidationSamples: 500\n",
      "  NumTestSamples: 1000\n",
      "Done loading data from cached files.\n"
     ]
    }
   ],
   "source": [
    "dataset = dgl.data.CoraGraphDataset()\n",
    "g = dataset[0]"
   ]
  },
  {
   "cell_type": "code",
   "execution_count": 163,
   "metadata": {},
   "outputs": [
    {
     "ename": "NameError",
     "evalue": "name 'self' is not defined",
     "output_type": "error",
     "traceback": [
      "\u001b[0;31m---------------------------------------------------------------------------\u001b[0m",
      "\u001b[0;31mNameError\u001b[0m                                 Traceback (most recent call last)",
      "\u001b[1;32m/Users/coldeye/Documents/2_Current_Year/FYP/code/GPR-GNN_Attention/test.ipynb Cell 19'\u001b[0m in \u001b[0;36m<cell line: 16>\u001b[0;34m()\u001b[0m\n\u001b[1;32m     <a href='vscode-notebook-cell:/Users/coldeye/Documents/2_Current_Year/FYP/code/GPR-GNN_Attention/test.ipynb#ch0000023?line=12'>13</a>\u001b[0m         \u001b[39mreturn\u001b[39;00m {\u001b[39m'\u001b[39m\u001b[39mh\u001b[39m\u001b[39m'\u001b[39m: h}\n\u001b[1;32m     <a href='vscode-notebook-cell:/Users/coldeye/Documents/2_Current_Year/FYP/code/GPR-GNN_Attention/test.ipynb#ch0000023?line=14'>15</a>\u001b[0m g\u001b[39m.\u001b[39mndata[\u001b[39m'\u001b[39m\u001b[39mz\u001b[39m\u001b[39m'\u001b[39m] \u001b[39m=\u001b[39m g\u001b[39m.\u001b[39mndata[\u001b[39m'\u001b[39m\u001b[39mfeat\u001b[39m\u001b[39m'\u001b[39m]\n\u001b[0;32m---> <a href='vscode-notebook-cell:/Users/coldeye/Documents/2_Current_Year/FYP/code/GPR-GNN_Attention/test.ipynb#ch0000023?line=15'>16</a>\u001b[0m g\u001b[39m.\u001b[39;49mapply_edges(edge_attention)\n",
      "File \u001b[0;32m~/miniforge3/envs/torch/lib/python3.9/site-packages/dgl-0.9-py3.9-macosx-11.0-arm64.egg/dgl/heterograph.py:4441\u001b[0m, in \u001b[0;36mDGLHeteroGraph.apply_edges\u001b[0;34m(self, func, edges, etype, inplace)\u001b[0m\n\u001b[1;32m   <a href='file:///Users/coldeye/miniforge3/envs/torch/lib/python3.9/site-packages/dgl-0.9-py3.9-macosx-11.0-arm64.egg/dgl/heterograph.py?line=4438'>4439</a>\u001b[0m     edata \u001b[39m=\u001b[39m core\u001b[39m.\u001b[39minvoke_gsddmm(g, func)\n\u001b[1;32m   <a href='file:///Users/coldeye/miniforge3/envs/torch/lib/python3.9/site-packages/dgl-0.9-py3.9-macosx-11.0-arm64.egg/dgl/heterograph.py?line=4439'>4440</a>\u001b[0m \u001b[39melse\u001b[39;00m:\n\u001b[0;32m-> <a href='file:///Users/coldeye/miniforge3/envs/torch/lib/python3.9/site-packages/dgl-0.9-py3.9-macosx-11.0-arm64.egg/dgl/heterograph.py?line=4440'>4441</a>\u001b[0m     edata \u001b[39m=\u001b[39m core\u001b[39m.\u001b[39;49minvoke_edge_udf(g, eid, etype, func)\n\u001b[1;32m   <a href='file:///Users/coldeye/miniforge3/envs/torch/lib/python3.9/site-packages/dgl-0.9-py3.9-macosx-11.0-arm64.egg/dgl/heterograph.py?line=4442'>4443</a>\u001b[0m \u001b[39mif\u001b[39;00m \u001b[39mself\u001b[39m\u001b[39m.\u001b[39m_graph\u001b[39m.\u001b[39mnumber_of_etypes() \u001b[39m==\u001b[39m \u001b[39m1\u001b[39m \u001b[39mor\u001b[39;00m etype \u001b[39mis\u001b[39;00m \u001b[39mnot\u001b[39;00m \u001b[39mNone\u001b[39;00m:\n\u001b[1;32m   <a href='file:///Users/coldeye/miniforge3/envs/torch/lib/python3.9/site-packages/dgl-0.9-py3.9-macosx-11.0-arm64.egg/dgl/heterograph.py?line=4443'>4444</a>\u001b[0m     \u001b[39mself\u001b[39m\u001b[39m.\u001b[39m_set_e_repr(etid, eid, edata)\n",
      "File \u001b[0;32m~/miniforge3/envs/torch/lib/python3.9/site-packages/dgl-0.9-py3.9-macosx-11.0-arm64.egg/dgl/core.py:85\u001b[0m, in \u001b[0;36minvoke_edge_udf\u001b[0;34m(graph, eid, etype, func, orig_eid)\u001b[0m\n\u001b[1;32m     <a href='file:///Users/coldeye/miniforge3/envs/torch/lib/python3.9/site-packages/dgl-0.9-py3.9-macosx-11.0-arm64.egg/dgl/core.py?line=81'>82</a>\u001b[0m dstdata \u001b[39m=\u001b[39m graph\u001b[39m.\u001b[39m_node_frames[dtid]\u001b[39m.\u001b[39msubframe(v)\n\u001b[1;32m     <a href='file:///Users/coldeye/miniforge3/envs/torch/lib/python3.9/site-packages/dgl-0.9-py3.9-macosx-11.0-arm64.egg/dgl/core.py?line=82'>83</a>\u001b[0m ebatch \u001b[39m=\u001b[39m EdgeBatch(graph, eid \u001b[39mif\u001b[39;00m orig_eid \u001b[39mis\u001b[39;00m \u001b[39mNone\u001b[39;00m \u001b[39melse\u001b[39;00m orig_eid,\n\u001b[1;32m     <a href='file:///Users/coldeye/miniforge3/envs/torch/lib/python3.9/site-packages/dgl-0.9-py3.9-macosx-11.0-arm64.egg/dgl/core.py?line=83'>84</a>\u001b[0m                    etype, srcdata, edata, dstdata)\n\u001b[0;32m---> <a href='file:///Users/coldeye/miniforge3/envs/torch/lib/python3.9/site-packages/dgl-0.9-py3.9-macosx-11.0-arm64.egg/dgl/core.py?line=84'>85</a>\u001b[0m \u001b[39mreturn\u001b[39;00m func(ebatch)\n",
      "\u001b[1;32m/Users/coldeye/Documents/2_Current_Year/FYP/code/GPR-GNN_Attention/test.ipynb Cell 19'\u001b[0m in \u001b[0;36medge_attention\u001b[0;34m(edges)\u001b[0m\n\u001b[1;32m      <a href='vscode-notebook-cell:/Users/coldeye/Documents/2_Current_Year/FYP/code/GPR-GNN_Attention/test.ipynb#ch0000023?line=0'>1</a>\u001b[0m \u001b[39mdef\u001b[39;00m \u001b[39medge_attention\u001b[39m(edges):\n\u001b[1;32m      <a href='vscode-notebook-cell:/Users/coldeye/Documents/2_Current_Year/FYP/code/GPR-GNN_Attention/test.ipynb#ch0000023?line=1'>2</a>\u001b[0m         z2 \u001b[39m=\u001b[39m torch\u001b[39m.\u001b[39mcat([edges\u001b[39m.\u001b[39msrc[\u001b[39m'\u001b[39m\u001b[39mz\u001b[39m\u001b[39m'\u001b[39m], edges\u001b[39m.\u001b[39mdst[\u001b[39m'\u001b[39m\u001b[39mz\u001b[39m\u001b[39m'\u001b[39m]], dim\u001b[39m=\u001b[39m\u001b[39m1\u001b[39m)\n\u001b[0;32m----> <a href='vscode-notebook-cell:/Users/coldeye/Documents/2_Current_Year/FYP/code/GPR-GNN_Attention/test.ipynb#ch0000023?line=2'>3</a>\u001b[0m         a \u001b[39m=\u001b[39m \u001b[39mself\u001b[39;49m\u001b[39m.\u001b[39mattn_fc(z2)\n\u001b[1;32m      <a href='vscode-notebook-cell:/Users/coldeye/Documents/2_Current_Year/FYP/code/GPR-GNN_Attention/test.ipynb#ch0000023?line=3'>4</a>\u001b[0m         \u001b[39mreturn\u001b[39;00m {\u001b[39m'\u001b[39m\u001b[39me\u001b[39m\u001b[39m'\u001b[39m: F\u001b[39m.\u001b[39mleaky_relu(a)}\n",
      "\u001b[0;31mNameError\u001b[0m: name 'self' is not defined"
     ]
    }
   ],
   "source": [
    "def edge_attention(edges):\n",
    "        z2 = torch.cat([edges.src['z'], edges.dst['z']], dim=1)\n",
    "        a = attn_fc(z2)\n",
    "        return {'e': F.leaky_relu(a)}\n",
    "\n",
    "def message_func(edges):\n",
    "        return {'z': edges.src['z'], 'e': edges.data['e']}\n",
    "\n",
    "def reduce_func(nodes):\n",
    "        alpha = F.softmax(nodes.mailbox['e'], dim=1)\n",
    "        alpha = alpha * self.norm(self.g, self.g.edata['e'])\n",
    "        h = torch.sum(alpha * nodes.mailbox['z'], dim=1)\n",
    "        return {'h': h}\n",
    "\n",
    "g.ndata['z'] = g.ndata['feat']\n",
    "g.apply_edges(edge_attention)"
   ]
  },
  {
   "cell_type": "code",
   "execution_count": 330,
   "metadata": {},
   "outputs": [],
   "source": [
    "from dgl.nn import EdgeWeightNorm, GATv2Conv\n",
    "import numpy as np\n",
    "\n",
    "class GPR_prop_attention(nn.Module):\n",
    "    def __init__(self, g, K=10, alpha=0.1, Init='PPR', hidden_dim=1433, attention_dim=100, Gamma=None):\n",
    "        super(GPR_prop_attention, self).__init__()\n",
    "        self.K = K\n",
    "        self.Init = Init\n",
    "        self.alpha = alpha\n",
    "        self.norm = EdgeWeightNorm(norm='both')\n",
    "\n",
    "        assert Init in ['SGC', 'PPR', 'NPPR', 'Random', 'WS']\n",
    "        if Init == 'SGC':\n",
    "            # SGC-like, note that in this case, alpha has to be a integer. It means where the peak at when initializing GPR weights.\n",
    "            TEMP = 0.0*np.ones(K+1)\n",
    "            TEMP[alpha] = 1.0\n",
    "        elif Init == 'PPR':\n",
    "            # PPR-like\n",
    "            TEMP = alpha*(1-alpha)**np.arange(K+1)\n",
    "            TEMP[-1] = (1-alpha)**K\n",
    "        elif Init == 'NPPR':\n",
    "            # Negative PPR\n",
    "            TEMP = (alpha)**np.arange(K+1)\n",
    "            TEMP = TEMP/np.sum(np.abs(TEMP))\n",
    "        elif Init == 'Random':\n",
    "            # Random\n",
    "            bound = np.sqrt(3/(K+1))\n",
    "            TEMP = np.random.uniform(-bound, bound, K+1)\n",
    "            TEMP = TEMP/np.sum(np.abs(TEMP))\n",
    "        elif Init == 'WS':\n",
    "            # Specify Gamma\n",
    "            TEMP = Gamma\n",
    "        \n",
    "        self.temp = nn.Parameter(torch.tensor(TEMP))\n",
    "\n",
    "        self.g = g\n",
    "        self.fc = nn.Linear(hidden_dim, attention_dim, bias=False)\n",
    "        self.attn_fc = nn.Linear(2 * attention_dim, 1, bias=False)\n",
    "\n",
    "    \n",
    "    def reset_parameters(self):\n",
    "        torch.nn.init.zeros_(self.temp)\n",
    "        for k in range(self.K+1):\n",
    "            self.temp.data[k] = self.alpha*(1-self.alpha)**k\n",
    "        self.temp.data[-1] = (1-self.alpha)**self.K\n",
    "        gain = nn.init.calculate_gain('relu')\n",
    "        nn.init.xavier_normal_(self.fc.weight, gain=gain)\n",
    "        nn.init.xavier_normal_(self.attn_fc.weight, gain=gain)\n",
    "\n",
    "    def edge_attention(self, edges):\n",
    "        z2 = torch.cat([edges.src['z'], edges.dst['z']], dim=1)\n",
    "        a = self.attn_fc(z2)\n",
    "        a = a * self.norm(self.g, torch.ones(self.g.edata['e'].shape).squeeze()).unsqueeze(dim=1) \n",
    "        return {'e': F.leaky_relu(a)}\n",
    "\n",
    "    def message_func(self, edges):\n",
    "        return {'h': edges.src['h'], 'e': edges.data['e']}\n",
    "\n",
    "    def reduce_func(self, nodes):\n",
    "        alpha = F.softmax(nodes.mailbox['e'], dim=1)\n",
    "        h = torch.sum(alpha * nodes.mailbox['h'], dim=1)\n",
    "        return {'h': h}\n",
    "\n",
    "    def forward(self, in_feat):\n",
    "        self.g.ndata['h'] = in_feat\n",
    "        self.g.ndata['TH'] = in_feat * (self.temp[0])\n",
    "        for k in range(self.K):\n",
    "            z = self.fc(self.g.ndata['h'])\n",
    "            self.g.ndata['z'] = z\n",
    "            self.g.apply_edges(self.edge_attention)\n",
    "            self.g.update_all(self.message_func, self.reduce_func)\n",
    "            gamma = self.temp[k+1]\n",
    "            self.g.ndata['TH'] = self.g.ndata['TH'] + self.g.ndata['h'] * gamma\n",
    "        return self.g.ndata['TH']"
   ]
  },
  {
   "cell_type": "code",
   "execution_count": 331,
   "metadata": {},
   "outputs": [],
   "source": [
    "prop1 = GPR_prop_attention(g)"
   ]
  },
  {
   "cell_type": "code",
   "execution_count": 333,
   "metadata": {},
   "outputs": [
    {
     "data": {
      "text/plain": [
       "torch.Size([2708, 1433])"
      ]
     },
     "execution_count": 333,
     "metadata": {},
     "output_type": "execute_result"
    }
   ],
   "source": [
    "prop1(g.ndata['feat']).shape"
   ]
  },
  {
   "cell_type": "code",
   "execution_count": 301,
   "metadata": {},
   "outputs": [],
   "source": [
    "import torch\n",
    "import torch.nn as nn\n",
    "import torch.nn.functional as F\n",
    "\n",
    "\n",
    "class GATLayer(nn.Module):\n",
    "    def __init__(self, g, in_dim, out_dim):\n",
    "        super(GATLayer, self).__init__()\n",
    "        self.g = g\n",
    "        # equation (1)\n",
    "        self.fc = nn.Linear(in_dim, out_dim, bias=False)\n",
    "        # equation (2)\n",
    "        self.attn_fc = nn.Linear(2 * out_dim, 1, bias=False)\n",
    "        self.reset_parameters()\n",
    "\n",
    "    def reset_parameters(self):\n",
    "        \"\"\"Reinitialize learnable parameters.\"\"\"\n",
    "        gain = nn.init.calculate_gain('relu')\n",
    "        nn.init.xavier_normal_(self.fc.weight, gain=gain)\n",
    "        nn.init.xavier_normal_(self.attn_fc.weight, gain=gain)\n",
    "\n",
    "    def edge_attention(self, edges):\n",
    "        # edge UDF for equation (2)\n",
    "        z2 = torch.cat([edges.src['z'], edges.dst['z']], dim=1)\n",
    "        a = self.attn_fc(z2)\n",
    "        print(a.shape)\n",
    "        return {'e': F.leaky_relu(a)}\n",
    "\n",
    "    def message_func(self, edges):\n",
    "        # message UDF for equation (3) & (4)\n",
    "        return {'z': edges.src['z'], 'e': edges.data['e']}\n",
    "\n",
    "    def reduce_func(self, nodes):\n",
    "        # reduce UDF for equation (3) & (4)\n",
    "        # equation (3)\n",
    "        alpha = F.softmax(nodes.mailbox['e'], dim=1)\n",
    "        # print(nodes.mailbox['e'].shape)\n",
    "        # equation (4)\n",
    "        h = torch.sum(alpha * nodes.mailbox['z'], dim=1)\n",
    "        return {'h': h}\n",
    "\n",
    "    def forward(self, h):\n",
    "        # equation (1)\n",
    "        z = self.fc(h)\n",
    "        self.g.ndata['z'] = z\n",
    "        # equation (2)\n",
    "        self.g.apply_edges(self.edge_attention)\n",
    "        # equation (3) & (4)\n",
    "        self.g.update_all(self.message_func, self.reduce_func)\n",
    "        return self.g.ndata.pop('h')"
   ]
  },
  {
   "cell_type": "code",
   "execution_count": 302,
   "metadata": {},
   "outputs": [],
   "source": [
    "gat = GATLayer(g, g.ndata['feat'].shape[1], 100)"
   ]
  },
  {
   "cell_type": "code",
   "execution_count": 303,
   "metadata": {},
   "outputs": [
    {
     "name": "stdout",
     "output_type": "stream",
     "text": [
      "torch.Size([10556, 1])\n"
     ]
    },
    {
     "data": {
      "text/plain": [
       "tensor([[-4.1790e-03,  2.9552e-03, -5.6929e-03,  ...,  4.0570e-03,\n",
       "         -7.2795e-04, -2.7860e-03],\n",
       "        [-3.5868e-03, -1.6618e-03, -6.5353e-03,  ...,  3.9866e-04,\n",
       "         -9.7184e-04, -3.5037e-03],\n",
       "        [-3.5868e-03, -1.6618e-03, -6.5353e-03,  ...,  3.9866e-04,\n",
       "         -9.7184e-04, -3.5037e-03],\n",
       "        ...,\n",
       "        [ 3.5966e-03,  1.7319e-03, -4.0267e-03,  ...,  2.1680e-02,\n",
       "         -7.7565e-03, -7.4146e-03],\n",
       "        [-2.1122e-06,  1.0050e-02, -1.4291e-02,  ...,  1.1471e-02,\n",
       "          9.6459e-04,  1.6365e-02],\n",
       "        [-5.2093e-03,  2.4313e-02, -2.4839e-03,  ...,  5.3332e-03,\n",
       "         -1.6284e-02,  7.7768e-03]], grad_fn=<IndexCopyBackward0>)"
      ]
     },
     "execution_count": 303,
     "metadata": {},
     "output_type": "execute_result"
    }
   ],
   "source": [
    "gat(g.ndata['feat'])"
   ]
  },
  {
   "cell_type": "code",
   "execution_count": 304,
   "metadata": {},
   "outputs": [
    {
     "ename": "TypeError",
     "evalue": "ones() received an invalid combination of arguments - got (), but expected one of:\n * (tuple of ints size, *, tuple of names names, torch.dtype dtype, torch.layout layout, torch.device device, bool pin_memory, bool requires_grad)\n * (tuple of ints size, *, Tensor out, torch.dtype dtype, torch.layout layout, torch.device device, bool pin_memory, bool requires_grad)\n",
     "output_type": "error",
     "traceback": [
      "\u001b[0;31m---------------------------------------------------------------------------\u001b[0m",
      "\u001b[0;31mTypeError\u001b[0m                                 Traceback (most recent call last)",
      "\u001b[1;32m/Users/coldeye/Documents/2_Current_Year/FYP/code/GPR-GNN_Attention/test.ipynb Cell 26'\u001b[0m in \u001b[0;36m<cell line: 1>\u001b[0;34m()\u001b[0m\n\u001b[0;32m----> <a href='vscode-notebook-cell:/Users/coldeye/Documents/2_Current_Year/FYP/code/GPR-GNN_Attention/test.ipynb#ch0000030?line=0'>1</a>\u001b[0m torch\u001b[39m.\u001b[39;49mones()\n",
      "\u001b[0;31mTypeError\u001b[0m: ones() received an invalid combination of arguments - got (), but expected one of:\n * (tuple of ints size, *, tuple of names names, torch.dtype dtype, torch.layout layout, torch.device device, bool pin_memory, bool requires_grad)\n * (tuple of ints size, *, Tensor out, torch.dtype dtype, torch.layout layout, torch.device device, bool pin_memory, bool requires_grad)\n"
     ]
    }
   ],
   "source": [
    "torch.ones()"
   ]
  },
  {
   "cell_type": "code",
   "execution_count": 284,
   "metadata": {},
   "outputs": [
    {
     "data": {
      "text/plain": [
       "torch.Size([10556, 1])"
      ]
     },
     "execution_count": 284,
     "metadata": {},
     "output_type": "execute_result"
    }
   ],
   "source": [
    "g.edata['e'].shape"
   ]
  },
  {
   "cell_type": "code",
   "execution_count": 11,
   "metadata": {},
   "outputs": [
    {
     "name": "stdout",
     "output_type": "stream",
     "text": [
      "  NumNodes: 2708\n",
      "  NumEdges: 10556\n",
      "  NumFeats: 1433\n",
      "  NumClasses: 7\n",
      "  NumTrainingSamples: 140\n",
      "  NumValidationSamples: 500\n",
      "  NumTestSamples: 1000\n",
      "Done loading data from cached files.\n"
     ]
    }
   ],
   "source": [
    "import dgl\n",
    "import torch\n",
    "dataset = dgl.data.CoraGraphDataset()\n",
    "g = dataset[0]"
   ]
  },
  {
   "cell_type": "code",
   "execution_count": 15,
   "metadata": {},
   "outputs": [
    {
     "data": {
      "text/plain": [
       "tensor([0, 1, 2, 3, 4, 5, 6])"
      ]
     },
     "execution_count": 15,
     "metadata": {},
     "output_type": "execute_result"
    }
   ],
   "source": [
    "len"
   ]
  },
  {
   "cell_type": "code",
   "execution_count": 2,
   "metadata": {},
   "outputs": [],
   "source": [
    "import networkx as nx\n",
    "import numpy as np\n",
    "\n",
    "dataset = 'cornell'\n",
    "graph_adjacency_list_file_path = '../high_freq/{}/out1_graph_edges.txt'.format(dataset)\n",
    "graph_node_features_and_labels_file_path = '../high_freq/{}/out1_node_feature_label.txt'.format(dataset)\n",
    "\n",
    "G = nx.DiGraph()\n",
    "graph_node_features_dict = {}\n",
    "graph_labels_dict = {}\n",
    "\n",
    "with open(graph_node_features_and_labels_file_path) as graph_node_features_and_labels_file:\n",
    "    graph_node_features_and_labels_file.readline()\n",
    "    for line in graph_node_features_and_labels_file:\n",
    "        line = line.rstrip().split('\\t')\n",
    "        assert (len(line) == 3)\n",
    "        assert (int(line[0]) not in graph_node_features_dict and int(line[0]) not in graph_labels_dict)\n",
    "        graph_node_features_dict[int(line[0])] = np.array(line[1].split(','), dtype=np.uint8)\n",
    "        graph_labels_dict[int(line[0])] = int(line[2])\n",
    "\n",
    "with open(graph_adjacency_list_file_path) as graph_adjacency_list_file:\n",
    "    graph_adjacency_list_file.readline()\n",
    "    for line in graph_adjacency_list_file:\n",
    "        line = line.rstrip().split('\\t')\n",
    "        assert (len(line) == 2)\n",
    "        if int(line[0]) not in G:\n",
    "            G.add_node(int(line[0]), features=graph_node_features_dict[int(line[0])],\n",
    "                       label=graph_labels_dict[int(line[0])])\n",
    "        if int(line[1]) not in G:\n",
    "            G.add_node(int(line[1]), features=graph_node_features_dict[int(line[1])],\n",
    "                       label=graph_labels_dict[int(line[1])])\n",
    "        G.add_edge(int(line[0]), int(line[1]))\n",
    "\n",
    " "
   ]
  },
  {
   "cell_type": "code",
   "execution_count": 8,
   "metadata": {},
   "outputs": [
    {
     "data": {
      "text/plain": [
       "[(0, array([0, 0, 0, ..., 0, 0, 0], dtype=uint8)),\n",
       " (1, array([0, 0, 0, ..., 0, 0, 0], dtype=uint8)),\n",
       " (2, array([0, 0, 0, ..., 0, 0, 0], dtype=uint8)),\n",
       " (3, array([0, 0, 0, ..., 0, 0, 0], dtype=uint8)),\n",
       " (4, array([0, 0, 0, ..., 0, 0, 0], dtype=uint8)),\n",
       " (5, array([0, 0, 0, ..., 0, 0, 0], dtype=uint8)),\n",
       " (6, array([0, 0, 0, ..., 0, 0, 0], dtype=uint8)),\n",
       " (7, array([1, 0, 0, ..., 0, 0, 0], dtype=uint8)),\n",
       " (8, array([0, 0, 0, ..., 0, 0, 0], dtype=uint8)),\n",
       " (9, array([0, 0, 0, ..., 0, 0, 0], dtype=uint8)),\n",
       " (10, array([0, 0, 0, ..., 0, 0, 0], dtype=uint8)),\n",
       " (11, array([0, 0, 0, ..., 1, 0, 0], dtype=uint8)),\n",
       " (12, array([0, 0, 0, ..., 0, 0, 0], dtype=uint8)),\n",
       " (13, array([0, 0, 0, ..., 0, 0, 0], dtype=uint8)),\n",
       " (14, array([0, 0, 0, ..., 0, 0, 0], dtype=uint8)),\n",
       " (15, array([0, 0, 1, ..., 0, 0, 0], dtype=uint8)),\n",
       " (16, array([0, 0, 0, ..., 0, 0, 0], dtype=uint8)),\n",
       " (17, array([0, 0, 0, ..., 0, 0, 0], dtype=uint8)),\n",
       " (18, array([0, 0, 0, ..., 0, 0, 0], dtype=uint8)),\n",
       " (19, array([0, 0, 0, ..., 0, 0, 0], dtype=uint8)),\n",
       " (20, array([0, 0, 1, ..., 0, 0, 0], dtype=uint8)),\n",
       " (21, array([0, 0, 0, ..., 0, 0, 0], dtype=uint8)),\n",
       " (22, array([0, 0, 0, ..., 0, 0, 0], dtype=uint8)),\n",
       " (23, array([0, 0, 0, ..., 0, 0, 0], dtype=uint8)),\n",
       " (24, array([0, 0, 0, ..., 0, 1, 0], dtype=uint8)),\n",
       " (25, array([0, 0, 0, ..., 0, 0, 0], dtype=uint8)),\n",
       " (26, array([0, 0, 0, ..., 0, 0, 0], dtype=uint8)),\n",
       " (27, array([0, 0, 0, ..., 0, 0, 0], dtype=uint8)),\n",
       " (28, array([0, 0, 0, ..., 0, 0, 0], dtype=uint8)),\n",
       " (29, array([0, 0, 0, ..., 0, 0, 0], dtype=uint8)),\n",
       " (30, array([0, 0, 0, ..., 0, 0, 0], dtype=uint8)),\n",
       " (31, array([0, 0, 0, ..., 0, 0, 0], dtype=uint8)),\n",
       " (32, array([0, 0, 0, ..., 1, 0, 0], dtype=uint8)),\n",
       " (33, array([0, 0, 0, ..., 0, 0, 0], dtype=uint8)),\n",
       " (34, array([0, 0, 0, ..., 0, 0, 0], dtype=uint8)),\n",
       " (35, array([0, 0, 0, ..., 0, 0, 0], dtype=uint8)),\n",
       " (36, array([0, 0, 0, ..., 0, 0, 0], dtype=uint8)),\n",
       " (37, array([0, 0, 0, ..., 0, 0, 0], dtype=uint8)),\n",
       " (38, array([0, 0, 0, ..., 0, 0, 0], dtype=uint8)),\n",
       " (39, array([0, 0, 0, ..., 0, 0, 0], dtype=uint8)),\n",
       " (40, array([0, 0, 1, ..., 0, 0, 0], dtype=uint8)),\n",
       " (41, array([0, 0, 0, ..., 0, 0, 0], dtype=uint8)),\n",
       " (42, array([0, 0, 0, ..., 0, 0, 0], dtype=uint8)),\n",
       " (43, array([0, 0, 0, ..., 0, 0, 0], dtype=uint8)),\n",
       " (44, array([0, 0, 0, ..., 0, 0, 0], dtype=uint8)),\n",
       " (45, array([0, 0, 0, ..., 0, 0, 0], dtype=uint8)),\n",
       " (46, array([0, 0, 0, ..., 0, 0, 0], dtype=uint8)),\n",
       " (47, array([0, 0, 0, ..., 0, 0, 0], dtype=uint8)),\n",
       " (48, array([0, 0, 0, ..., 0, 0, 0], dtype=uint8)),\n",
       " (49, array([0, 0, 0, ..., 0, 0, 0], dtype=uint8)),\n",
       " (50, array([0, 0, 0, ..., 0, 0, 0], dtype=uint8)),\n",
       " (51, array([0, 0, 0, ..., 0, 0, 0], dtype=uint8)),\n",
       " (52, array([0, 0, 0, ..., 0, 0, 0], dtype=uint8)),\n",
       " (53, array([0, 0, 0, ..., 0, 0, 0], dtype=uint8)),\n",
       " (54, array([0, 0, 1, ..., 0, 0, 0], dtype=uint8)),\n",
       " (55, array([0, 0, 0, ..., 0, 0, 0], dtype=uint8)),\n",
       " (56, array([0, 0, 0, ..., 0, 0, 0], dtype=uint8)),\n",
       " (57, array([0, 0, 0, ..., 0, 0, 0], dtype=uint8)),\n",
       " (58, array([0, 0, 0, ..., 0, 0, 0], dtype=uint8)),\n",
       " (59, array([0, 0, 0, ..., 0, 0, 0], dtype=uint8)),\n",
       " (60, array([0, 0, 0, ..., 0, 0, 0], dtype=uint8)),\n",
       " (61, array([0, 0, 0, ..., 0, 0, 0], dtype=uint8)),\n",
       " (62, array([0, 0, 0, ..., 0, 0, 0], dtype=uint8)),\n",
       " (63, array([0, 0, 0, ..., 0, 0, 0], dtype=uint8)),\n",
       " (64, array([0, 0, 0, ..., 0, 0, 0], dtype=uint8)),\n",
       " (65, array([0, 0, 0, ..., 0, 0, 0], dtype=uint8)),\n",
       " (66, array([0, 0, 0, ..., 0, 0, 0], dtype=uint8)),\n",
       " (67, array([0, 0, 0, ..., 0, 0, 0], dtype=uint8)),\n",
       " (68, array([0, 0, 0, ..., 0, 0, 0], dtype=uint8)),\n",
       " (69, array([0, 0, 0, ..., 0, 0, 0], dtype=uint8)),\n",
       " (70, array([0, 0, 0, ..., 0, 0, 0], dtype=uint8)),\n",
       " (71, array([0, 0, 0, ..., 0, 0, 0], dtype=uint8)),\n",
       " (72, array([0, 0, 0, ..., 1, 0, 0], dtype=uint8)),\n",
       " (73, array([0, 0, 0, ..., 0, 0, 0], dtype=uint8)),\n",
       " (74, array([0, 0, 0, ..., 0, 0, 0], dtype=uint8)),\n",
       " (75, array([0, 0, 0, ..., 0, 0, 0], dtype=uint8)),\n",
       " (76, array([0, 0, 0, ..., 0, 0, 0], dtype=uint8)),\n",
       " (77, array([0, 0, 0, ..., 0, 0, 0], dtype=uint8)),\n",
       " (78, array([0, 0, 0, ..., 0, 0, 0], dtype=uint8)),\n",
       " (79, array([0, 0, 0, ..., 0, 0, 0], dtype=uint8)),\n",
       " (80, array([0, 0, 0, ..., 0, 1, 0], dtype=uint8)),\n",
       " (81, array([0, 0, 0, ..., 0, 0, 0], dtype=uint8)),\n",
       " (82, array([0, 0, 0, ..., 0, 0, 0], dtype=uint8)),\n",
       " (83, array([0, 0, 0, ..., 0, 0, 0], dtype=uint8)),\n",
       " (84, array([0, 0, 0, ..., 0, 0, 0], dtype=uint8)),\n",
       " (85, array([0, 0, 0, ..., 0, 0, 0], dtype=uint8)),\n",
       " (86, array([0, 0, 0, ..., 0, 0, 0], dtype=uint8)),\n",
       " (87, array([0, 0, 0, ..., 0, 0, 0], dtype=uint8)),\n",
       " (88, array([0, 0, 0, ..., 0, 0, 0], dtype=uint8)),\n",
       " (89, array([0, 0, 0, ..., 0, 0, 0], dtype=uint8)),\n",
       " (90, array([0, 0, 0, ..., 0, 0, 0], dtype=uint8)),\n",
       " (91, array([0, 0, 0, ..., 0, 0, 0], dtype=uint8)),\n",
       " (92, array([0, 0, 0, ..., 0, 1, 0], dtype=uint8)),\n",
       " (93, array([0, 0, 0, ..., 0, 0, 0], dtype=uint8)),\n",
       " (94, array([0, 0, 0, ..., 0, 0, 0], dtype=uint8)),\n",
       " (95, array([0, 0, 0, ..., 0, 0, 0], dtype=uint8)),\n",
       " (96, array([0, 0, 0, ..., 0, 0, 0], dtype=uint8)),\n",
       " (97, array([0, 0, 0, ..., 0, 0, 0], dtype=uint8)),\n",
       " (98, array([0, 0, 0, ..., 0, 0, 0], dtype=uint8)),\n",
       " (99, array([0, 0, 0, ..., 0, 0, 0], dtype=uint8)),\n",
       " (100, array([0, 0, 0, ..., 0, 0, 0], dtype=uint8)),\n",
       " (101, array([0, 0, 0, ..., 0, 0, 0], dtype=uint8)),\n",
       " (102, array([0, 0, 0, ..., 0, 0, 0], dtype=uint8)),\n",
       " (103, array([0, 0, 0, ..., 0, 0, 0], dtype=uint8)),\n",
       " (104, array([0, 0, 0, ..., 0, 0, 0], dtype=uint8)),\n",
       " (105, array([0, 0, 0, ..., 0, 0, 0], dtype=uint8)),\n",
       " (106, array([0, 0, 0, ..., 0, 0, 0], dtype=uint8)),\n",
       " (107, array([0, 0, 0, ..., 0, 0, 0], dtype=uint8)),\n",
       " (108, array([0, 0, 0, ..., 0, 0, 0], dtype=uint8)),\n",
       " (109, array([0, 0, 0, ..., 0, 0, 0], dtype=uint8)),\n",
       " (110, array([0, 0, 0, ..., 0, 0, 0], dtype=uint8)),\n",
       " (111, array([0, 0, 0, ..., 0, 0, 0], dtype=uint8)),\n",
       " (112, array([0, 0, 0, ..., 0, 0, 0], dtype=uint8)),\n",
       " (113, array([0, 0, 0, ..., 0, 0, 0], dtype=uint8)),\n",
       " (114, array([0, 0, 0, ..., 0, 0, 0], dtype=uint8)),\n",
       " (115, array([0, 0, 0, ..., 0, 0, 0], dtype=uint8)),\n",
       " (116, array([0, 0, 0, ..., 0, 0, 0], dtype=uint8)),\n",
       " (117, array([0, 0, 0, ..., 0, 0, 0], dtype=uint8)),\n",
       " (118, array([0, 0, 0, ..., 0, 0, 0], dtype=uint8)),\n",
       " (119, array([0, 0, 0, ..., 0, 0, 0], dtype=uint8)),\n",
       " (120, array([0, 0, 0, ..., 0, 0, 0], dtype=uint8)),\n",
       " (121, array([0, 0, 0, ..., 0, 0, 0], dtype=uint8)),\n",
       " (122, array([0, 0, 0, ..., 0, 0, 0], dtype=uint8)),\n",
       " (123, array([0, 0, 0, ..., 0, 0, 0], dtype=uint8)),\n",
       " (124, array([0, 1, 0, ..., 0, 0, 0], dtype=uint8)),\n",
       " (125, array([0, 0, 0, ..., 0, 0, 0], dtype=uint8)),\n",
       " (126, array([0, 0, 0, ..., 0, 0, 0], dtype=uint8)),\n",
       " (127, array([0, 0, 0, ..., 0, 0, 0], dtype=uint8)),\n",
       " (128, array([0, 0, 0, ..., 0, 0, 0], dtype=uint8)),\n",
       " (129, array([0, 0, 0, ..., 0, 0, 0], dtype=uint8)),\n",
       " (130, array([0, 0, 0, ..., 0, 0, 0], dtype=uint8)),\n",
       " (131, array([0, 0, 0, ..., 0, 0, 0], dtype=uint8)),\n",
       " (132, array([0, 0, 0, ..., 0, 0, 0], dtype=uint8)),\n",
       " (133, array([0, 0, 0, ..., 0, 0, 0], dtype=uint8)),\n",
       " (134, array([0, 0, 0, ..., 0, 0, 0], dtype=uint8)),\n",
       " (135, array([0, 0, 0, ..., 0, 0, 0], dtype=uint8)),\n",
       " (136, array([0, 0, 0, ..., 0, 0, 0], dtype=uint8)),\n",
       " (137, array([0, 0, 0, ..., 0, 0, 0], dtype=uint8)),\n",
       " (138, array([0, 0, 0, ..., 0, 0, 0], dtype=uint8)),\n",
       " (139, array([0, 0, 0, ..., 0, 0, 0], dtype=uint8)),\n",
       " (140, array([0, 0, 0, ..., 0, 0, 0], dtype=uint8)),\n",
       " (141, array([0, 0, 0, ..., 0, 0, 0], dtype=uint8)),\n",
       " (142, array([0, 0, 0, ..., 1, 0, 0], dtype=uint8)),\n",
       " (143, array([0, 0, 0, ..., 0, 0, 0], dtype=uint8)),\n",
       " (144, array([0, 0, 0, ..., 0, 0, 0], dtype=uint8)),\n",
       " (145, array([0, 0, 0, ..., 0, 0, 0], dtype=uint8)),\n",
       " (146, array([0, 0, 0, ..., 0, 0, 0], dtype=uint8)),\n",
       " (147, array([0, 0, 0, ..., 0, 0, 0], dtype=uint8)),\n",
       " (148, array([0, 0, 0, ..., 0, 0, 0], dtype=uint8)),\n",
       " (149, array([0, 0, 0, ..., 0, 0, 0], dtype=uint8)),\n",
       " (150, array([0, 0, 0, ..., 0, 0, 0], dtype=uint8)),\n",
       " (151, array([0, 0, 0, ..., 0, 0, 0], dtype=uint8)),\n",
       " (152, array([0, 0, 0, ..., 0, 0, 0], dtype=uint8)),\n",
       " (153, array([0, 0, 0, ..., 0, 0, 0], dtype=uint8)),\n",
       " (154, array([0, 0, 0, ..., 0, 0, 0], dtype=uint8)),\n",
       " (155, array([0, 0, 0, ..., 0, 0, 0], dtype=uint8)),\n",
       " (156, array([0, 0, 0, ..., 0, 0, 0], dtype=uint8)),\n",
       " (157, array([0, 0, 0, ..., 0, 0, 0], dtype=uint8)),\n",
       " (158, array([0, 0, 0, ..., 0, 0, 0], dtype=uint8)),\n",
       " (159, array([0, 0, 0, ..., 0, 1, 0], dtype=uint8)),\n",
       " (160, array([0, 0, 0, ..., 0, 0, 0], dtype=uint8)),\n",
       " (161, array([0, 0, 0, ..., 0, 0, 0], dtype=uint8)),\n",
       " (162, array([0, 0, 0, ..., 0, 0, 0], dtype=uint8)),\n",
       " (163, array([0, 0, 0, ..., 0, 0, 0], dtype=uint8)),\n",
       " (164, array([0, 0, 0, ..., 0, 0, 0], dtype=uint8)),\n",
       " (165, array([0, 0, 0, ..., 0, 0, 0], dtype=uint8)),\n",
       " (166, array([0, 0, 0, ..., 0, 0, 0], dtype=uint8)),\n",
       " (167, array([0, 0, 0, ..., 0, 0, 0], dtype=uint8)),\n",
       " (168, array([0, 0, 0, ..., 0, 0, 0], dtype=uint8)),\n",
       " (169, array([0, 0, 0, ..., 0, 0, 0], dtype=uint8)),\n",
       " (170, array([0, 0, 0, ..., 0, 0, 0], dtype=uint8)),\n",
       " (171, array([0, 0, 0, ..., 0, 0, 0], dtype=uint8)),\n",
       " (172, array([0, 0, 0, ..., 0, 1, 0], dtype=uint8)),\n",
       " (173, array([0, 0, 0, ..., 0, 0, 0], dtype=uint8)),\n",
       " (174, array([0, 0, 0, ..., 0, 1, 0], dtype=uint8)),\n",
       " (175, array([0, 0, 0, ..., 0, 0, 0], dtype=uint8)),\n",
       " (176, array([0, 0, 0, ..., 0, 0, 0], dtype=uint8)),\n",
       " (177, array([0, 0, 0, ..., 0, 0, 0], dtype=uint8)),\n",
       " (178, array([0, 0, 0, ..., 0, 0, 0], dtype=uint8)),\n",
       " (179, array([0, 0, 0, ..., 0, 0, 0], dtype=uint8)),\n",
       " (180, array([0, 0, 0, ..., 0, 0, 0], dtype=uint8)),\n",
       " (181, array([0, 0, 0, ..., 0, 0, 0], dtype=uint8)),\n",
       " (182, array([0, 0, 0, ..., 0, 0, 0], dtype=uint8))]"
      ]
     },
     "execution_count": 8,
     "metadata": {},
     "output_type": "execute_result"
    }
   ],
   "source": [
    "sorted(G.nodes(data='features'))"
   ]
  },
  {
   "cell_type": "code",
   "execution_count": 9,
   "metadata": {},
   "outputs": [
    {
     "ename": "NameError",
     "evalue": "name 'g' is not defined",
     "output_type": "error",
     "traceback": [
      "\u001b[0;31m---------------------------------------------------------------------------\u001b[0m",
      "\u001b[0;31mNameError\u001b[0m                                 Traceback (most recent call last)",
      "\u001b[1;32m/Users/coldeye/Documents/2_Current_Year/FYP/code/GPR-GNN_Attention/src/test.ipynb Cell 32'\u001b[0m in \u001b[0;36m<cell line: 1>\u001b[0;34m()\u001b[0m\n\u001b[0;32m----> <a href='vscode-notebook-cell:/Users/coldeye/Documents/2_Current_Year/FYP/code/GPR-GNN_Attention/src/test.ipynb#ch0000031?line=0'>1</a>\u001b[0m g\n",
      "\u001b[0;31mNameError\u001b[0m: name 'g' is not defined"
     ]
    }
   ],
   "source": []
  },
  {
   "cell_type": "code",
   "execution_count": 37,
   "metadata": {},
   "outputs": [
    {
     "data": {
      "text/plain": [
       "tensor([ True,  True,  True, False, False, False])"
      ]
     },
     "execution_count": 37,
     "metadata": {},
     "output_type": "execute_result"
    }
   ],
   "source": [
    "u = torch.tensor([0, 1, 2, 3, 4, 5])\n",
    "v = torch. tensor([1, 2, 3, 4, 5, 0])\n",
    "g = dgl.graph((u, v))\n",
    "train_ = np.array([0, 1, 2])\n",
    "val = np.array([3, 4])\n",
    "test = np.array([5])\n",
    "n_nodes = 6\n",
    "train_mask = torch.zeros(n_nodes, dtype=torch.bool)\n",
    "val_mask = torch.zeros(n_nodes, dtype=torch.bool)\n",
    "test_mask = torch.zeros(n_nodes, dtype=torch.bool)\n",
    "train_mask[train_] = True\n",
    "val_mask[val] = True\n",
    "test_mask[test] = True\n",
    "g.ndata['train_mask'] = train_mask\n",
    "g.ndata['train_mask']\n"
   ]
  },
  {
   "cell_type": "code",
   "execution_count": 43,
   "metadata": {},
   "outputs": [
    {
     "data": {
      "text/plain": [
       "20"
      ]
     },
     "execution_count": 43,
     "metadata": {},
     "output_type": "execute_result"
    }
   ],
   "source": [
    "n = 927\n",
    "train_rate = 0.3\n",
    "x = int(n * train_rate)\n",
    "x = np.ones((20, 1))\n",
    "len(x)"
   ]
  },
  {
   "cell_type": "code",
   "execution_count": 23,
   "metadata": {},
   "outputs": [
    {
     "data": {
      "text/plain": [
       "324"
      ]
     },
     "execution_count": 23,
     "metadata": {},
     "output_type": "execute_result"
    }
   ],
   "source": [
    "y = int(n * (1 - train_rate) / 2)\n",
    "y"
   ]
  },
  {
   "cell_type": "code",
   "execution_count": 4,
   "metadata": {},
   "outputs": [
    {
     "data": {
      "text/plain": [
       "'/Users/coldeye/Documents/2_Current_Year/FYP/code/GPR-GNN_Attention/result'"
      ]
     },
     "execution_count": 4,
     "metadata": {},
     "output_type": "execute_result"
    }
   ],
   "source": [
    "import os\n",
    "os.path.abspath(\"../result\")"
   ]
  },
  {
   "cell_type": "code",
   "execution_count": 5,
   "metadata": {},
   "outputs": [
    {
     "data": {
      "text/plain": [
       "'sssb'"
      ]
     },
     "execution_count": 5,
     "metadata": {},
     "output_type": "execute_result"
    }
   ],
   "source": [
    "a = \"ss\" + \"sb\"\n",
    "a"
   ]
  },
  {
   "cell_type": "code",
   "execution_count": 6,
   "metadata": {},
   "outputs": [
    {
     "data": {
      "text/plain": [
       "'haha_record.txt'"
      ]
     },
     "execution_count": 6,
     "metadata": {},
     "output_type": "execute_result"
    }
   ],
   "source": [
    "\"haha\" + \"_record\"+ \".txt\""
   ]
  },
  {
   "cell_type": "code",
   "execution_count": 18,
   "metadata": {},
   "outputs": [],
   "source": [
    "import torch\n",
    "import dgl\n",
    "from dataset_utils import preprocess_data\n",
    "from dgl.data import CoraGraphDataset"
   ]
  },
  {
   "cell_type": "code",
   "execution_count": 3,
   "metadata": {},
   "outputs": [
    {
     "data": {
      "text/plain": [
       "WikipediaNetwork()"
      ]
     },
     "execution_count": 3,
     "metadata": {},
     "output_type": "execute_result"
    }
   ],
   "source": [
    "dataset = preprocess_data('squirrel', 0.6) \n",
    "dataset"
   ]
  },
  {
   "cell_type": "code",
   "execution_count": null,
   "metadata": {},
   "outputs": [],
   "source": [
    "dataset = preprocess_data('chameleon', 0.6) "
   ]
  },
  {
   "cell_type": "code",
   "execution_count": 20,
   "metadata": {},
   "outputs": [],
   "source": [
    "g = dataset[0]\n",
    "src = g.edge_index[0]\n",
    "dst = g.edge_index[1]\n",
    "graph = dgl.graph((src,dst), num_nodes=g.x.size(0))\n",
    "graph.ndata['feat'] = g.x\n",
    "graph.ndata['label'] = g.y"
   ]
  },
  {
   "cell_type": "code",
   "execution_count": 16,
   "metadata": {},
   "outputs": [
    {
     "data": {
      "text/plain": [
       "Graph(num_nodes=5201, num_edges=217073,\n",
       "      ndata_schemes={'feat': Scheme(shape=(2089,), dtype=torch.float32)}\n",
       "      edata_schemes={})"
      ]
     },
     "execution_count": 16,
     "metadata": {},
     "output_type": "execute_result"
    }
   ],
   "source": [
    "graph"
   ]
  },
  {
   "cell_type": "code",
   "execution_count": 22,
   "metadata": {},
   "outputs": [
    {
     "name": "stdout",
     "output_type": "stream",
     "text": [
      "  NumNodes: 2708\n",
      "  NumEdges: 10556\n",
      "  NumFeats: 1433\n",
      "  NumClasses: 7\n",
      "  NumTrainingSamples: 140\n",
      "  NumValidationSamples: 500\n",
      "  NumTestSamples: 1000\n",
      "Done loading data from cached files.\n"
     ]
    },
    {
     "data": {
      "text/plain": [
       "7"
      ]
     },
     "execution_count": 22,
     "metadata": {},
     "output_type": "execute_result"
    }
   ],
   "source": [
    "graph1 = CoraGraphDataset()[0]\n",
    "graph1.ndata['label'].unique().size(0)"
   ]
  },
  {
   "cell_type": "code",
   "execution_count": 40,
   "metadata": {},
   "outputs": [
    {
     "name": "stdout",
     "output_type": "stream",
     "text": [
      "True Label rate:  0.6285081240768094\n"
     ]
    }
   ],
   "source": [
    "train_rate = 0.6\n",
    "val_rate = 0.2\n",
    "percls_trn = int(round(train_rate*len(graph.ndata['label'])/graph.ndata['label'].unique().size(0)))\n",
    "val_lb = int(round(val_rate*len(graph.ndata['label'])))\n",
    "TrueLBrate = (percls_trn*dataset.num_classes+val_lb)/len(graph.ndata['label'])\n",
    "print('True Label rate: ', TrueLBrate)"
   ]
  },
  {
   "cell_type": "code",
   "execution_count": 81,
   "metadata": {},
   "outputs": [],
   "source": [
    "graph = CoraGraphDataset(verbose=False)[0]"
   ]
  },
  {
   "cell_type": "code",
   "execution_count": 41,
   "metadata": {},
   "outputs": [
    {
     "data": {
      "text/plain": [
       "232"
      ]
     },
     "execution_count": 41,
     "metadata": {},
     "output_type": "execute_result"
    }
   ],
   "source": [
    "percls_trn"
   ]
  },
  {
   "cell_type": "code",
   "execution_count": 42,
   "metadata": {},
   "outputs": [],
   "source": [
    "indices = []\n",
    "for i in range(7):\n",
    "        index = (graph.ndata['label'] == i).nonzero().view(-1)\n",
    "        index = index[torch.randperm(index.size(0))]\n",
    "        indices.append(index)"
   ]
  },
  {
   "cell_type": "code",
   "execution_count": 48,
   "metadata": {},
   "outputs": [
    {
     "data": {
      "text/plain": [
       "tensor(1)"
      ]
     },
     "execution_count": 48,
     "metadata": {},
     "output_type": "execute_result"
    }
   ],
   "source": [
    "graph.ndata['label'][indices[1][2]]"
   ]
  },
  {
   "cell_type": "code",
   "execution_count": 51,
   "metadata": {},
   "outputs": [
    {
     "name": "stdout",
     "output_type": "stream",
     "text": [
      "Downloading /Users/coldeye/.dgl/amazon_co_buy_photo.zip from https://data.dgl.ai/dataset/amazon_co_buy_photo.zip...\n",
      "Extracting file to /Users/coldeye/.dgl/amazon_co_buy_photo\n"
     ]
    }
   ],
   "source": [
    "dataset == dgl.data.AmazonCoBuyPhotoDataset()\n",
    "graph = dataset[0]"
   ]
  },
  {
   "cell_type": "code",
   "execution_count": 71,
   "metadata": {},
   "outputs": [],
   "source": [
    "from torch_geometric.datasets import WebKB, WikipediaNetwork\n",
    "import torch_geometric.transforms as T\n",
    "dataset = WikipediaNetwork(root='../data/',\n",
    "                        name='chameleon', transform=T.NormalizeFeatures(),  geom_gcn_preprocess=False)\n",
    "g = dataset[0]\n",
    "src = g.edge_index[0]\n",
    "dst = g.edge_index[1]\n",
    "graph = dgl.graph((src,dst), num_nodes=g.x.size(0))\n",
    "graph.ndata['feat'] = g.x\n",
    "graph.ndata['label'] = g.y"
   ]
  },
  {
   "cell_type": "code",
   "execution_count": 72,
   "metadata": {},
   "outputs": [
    {
     "data": {
      "text/plain": [
       "Data(x=[2277, 128], edge_index=[2, 62792], y=[2277])"
      ]
     },
     "execution_count": 72,
     "metadata": {},
     "output_type": "execute_result"
    }
   ],
   "source": []
  },
  {
   "cell_type": "code",
   "execution_count": 70,
   "metadata": {},
   "outputs": [
    {
     "data": {
      "text/plain": [
       "tensor([ 5.1475,  8.9984,  9.0559,  ...,  4.6052, 10.0388,  5.6240])"
      ]
     },
     "execution_count": 70,
     "metadata": {},
     "output_type": "execute_result"
    }
   ],
   "source": [
    "graph.ndata['label']"
   ]
  },
  {
   "cell_type": "code",
   "execution_count": 79,
   "metadata": {},
   "outputs": [],
   "source": [
    "import numpy as np\n",
    "a = np.array([1,2, 3])\n",
    "b = np.array([3,4, 5])\n",
    "c = [a ,b]"
   ]
  },
  {
   "cell_type": "code",
   "execution_count": 80,
   "metadata": {},
   "outputs": [
    {
     "data": {
      "text/plain": [
       "array([1., 1., 1.])"
      ]
     },
     "execution_count": 80,
     "metadata": {},
     "output_type": "execute_result"
    }
   ],
   "source": [
    "np.var(c, axis=0)"
   ]
  },
  {
   "cell_type": "code",
   "execution_count": null,
   "metadata": {},
   "outputs": [],
   "source": [
    "g"
   ]
  }
 ],
 "metadata": {
  "interpreter": {
   "hash": "2212e3f7846a0b7a1be930d31035d287d15bdc28c147714496eeefb7460e94e5"
  },
  "kernelspec": {
   "display_name": "Python 3.9.7 ('torch')",
   "language": "python",
   "name": "python3"
  },
  "language_info": {
   "codemirror_mode": {
    "name": "ipython",
    "version": 3
   },
   "file_extension": ".py",
   "mimetype": "text/x-python",
   "name": "python",
   "nbconvert_exporter": "python",
   "pygments_lexer": "ipython3",
   "version": "3.9.10"
  },
  "orig_nbformat": 4
 },
 "nbformat": 4,
 "nbformat_minor": 2
}
